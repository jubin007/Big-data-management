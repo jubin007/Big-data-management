{
 "cells": [
  {
   "cell_type": "code",
   "execution_count": 1,
   "metadata": {},
   "outputs": [],
   "source": [
    "import csv\n",
    "import time\n",
    "\n",
    "in_csvfile = open('/home/jubin/Downloads/2018-11-20.csv', \"r\")\n",
    "\n",
    "reader = csv.DictReader(in_csvfile)\n",
    "\n",
    "num = 0\n",
    "\n",
    "output_file_num = 1\n",
    "\n",
    "out_csvfile = open('/home/jubin/Downloads/streaming/log_{}.csv'.format(output_file_num), \"w\")\n",
    "\n",
    "\n",
    "writer = None\n",
    "\n",
    "for row in reader:\n",
    "    num += 1\n",
    "\n",
    "\n",
    "    if writer is None:\n",
    "        writer = csv.DictWriter(\n",
    "            out_csvfile, \n",
    "            fieldnames=row.keys(), \n",
    "            delimiter=\",\", quotechar='\"', escapechar='\"', \n",
    "            lineterminator='\\n', quoting=csv.QUOTE_NONNUMERIC\n",
    "        )\n",
    "\n",
    "\n",
    "    writer.writerow(row)\n",
    "\n",
    "\n",
    "    if num >= 1000:\n",
    "        output_file_num += 1\n",
    "        \n",
    "\n",
    "        out_csvfile.close()\n",
    "        writer = None\n",
    "\n",
    "        out_csvfile = open('/home/jubin/Downloads/streaming/log_{}.csv'.format(output_file_num), \"w\")\n",
    "\n",
    "\n",
    "        num = 0 \n",
    "        \n",
    "time.sleep(5)\n",
    "in_csvfile.close()\n",
    "out_csvfile.close()"
   ]
  },
  {
   "cell_type": "code",
   "execution_count": null,
   "metadata": {},
   "outputs": [],
   "source": []
  }
 ],
 "metadata": {
  "kernelspec": {
   "display_name": "Python 3",
   "language": "python",
   "name": "python3"
  },
  "language_info": {
   "codemirror_mode": {
    "name": "ipython",
    "version": 3
   },
   "file_extension": ".py",
   "mimetype": "text/x-python",
   "name": "python",
   "nbconvert_exporter": "python",
   "pygments_lexer": "ipython3",
   "version": "3.5.2"
  }
 },
 "nbformat": 4,
 "nbformat_minor": 2
}
